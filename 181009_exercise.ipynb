{
 "cells": [
  {
   "cell_type": "code",
   "execution_count": 32,
   "metadata": {},
   "outputs": [],
   "source": [
    "from nltk.corpus import PlaintextCorpusReader"
   ]
  },
  {
   "cell_type": "code",
   "execution_count": 8,
   "metadata": {},
   "outputs": [],
   "source": [
    "from nltk import word_tokenize"
   ]
  },
  {
   "cell_type": "code",
   "execution_count": 9,
   "metadata": {},
   "outputs": [],
   "source": [
    "from nltk import Text"
   ]
  },
  {
   "cell_type": "code",
   "execution_count": 10,
   "metadata": {},
   "outputs": [],
   "source": [
    "from nltk import FreqDist"
   ]
  },
  {
   "cell_type": "code",
   "execution_count": 34,
   "metadata": {},
   "outputs": [],
   "source": [
    "corpus_root = '/Users/pepper/Desktop/third_grade/advanced_programming/week1/corpara'"
   ]
  },
  {
   "cell_type": "code",
   "execution_count": 58,
   "metadata": {},
   "outputs": [],
   "source": [
    "\n",
    "files = PlaintextCorpusReader(corpus_root,'.*\\.txt')\n"
   ]
  },
  {
   "cell_type": "code",
   "execution_count": 38,
   "metadata": {},
   "outputs": [
    {
     "data": {
      "text/plain": [
       "['1.txt', '2.txt', '3.txt', '4.txt', '5.txt']"
      ]
     },
     "execution_count": 38,
     "metadata": {},
     "output_type": "execute_result"
    }
   ],
   "source": [
    "files.fileids()"
   ]
  },
  {
   "cell_type": "code",
   "execution_count": 42,
   "metadata": {},
   "outputs": [],
   "source": [
    "words=word_tokenize(files.raw(fileids=files.fileids()))\n",
    "cps1 = Text(words)"
   ]
  },
  {
   "cell_type": "code",
   "execution_count": 44,
   "metadata": {},
   "outputs": [],
   "source": [
    "fdist1 = FreqDist(cps1)\n",
    "#wl = fdist1.items()\n",
    "#wl_sorted_desc = sorted(wl)"
   ]
  },
  {
   "cell_type": "code",
   "execution_count": 45,
   "metadata": {},
   "outputs": [
    {
     "data": {
      "text/plain": [
       "[(u'the', 109),\n",
       " (u'.', 72),\n",
       " (u',', 71),\n",
       " (u'a', 52),\n",
       " (u'of', 50),\n",
       " (u'to', 45),\n",
       " (u'in', 41),\n",
       " (u'and', 29),\n",
       " (u'\\u2019', 27),\n",
       " (u's', 23)]"
      ]
     },
     "execution_count": 45,
     "metadata": {},
     "output_type": "execute_result"
    }
   ],
   "source": [
    "fdist1.most_common(10)"
   ]
  },
  {
   "cell_type": "code",
   "execution_count": 48,
   "metadata": {},
   "outputs": [],
   "source": [
    "for tp1 in fdist1.most_common(10):print (tp1[0],'t',tp1[1])"
   ]
  },
  {
   "cell_type": "code",
   "execution_count": 17,
   "metadata": {},
   "outputs": [
    {
     "name": "stdout",
     "output_type": "stream",
     "text": [
      "*** Introductory Examples for the NLTK Book ***\n",
      "Loading text1, ..., text9 and sent1, ..., sent9\n",
      "Type the name of the text or sentence to view it.\n",
      "Type: 'texts()' or 'sents()' to list the materials.\n",
      "text1: Moby Dick by Herman Melville 1851\n",
      "text2: Sense and Sensibility by Jane Austen 1811\n",
      "text3: The Book of Genesis\n",
      "text4: Inaugural Address Corpus\n",
      "text5: Chat Corpus\n",
      "text6: Monty Python and the Holy Grail\n",
      "text7: Wall Street Journal\n",
      "text8: Personals Corpus\n",
      "text9: The Man Who Was Thursday by G . K . Chesterton 1908\n"
     ]
    }
   ],
   "source": [
    "from nltk.book import *\n"
   ]
  },
  {
   "cell_type": "code",
   "execution_count": 18,
   "metadata": {},
   "outputs": [
    {
     "data": {
      "text/plain": [
       "<Text: Moby Dick by Herman Melville 1851>"
      ]
     },
     "execution_count": 18,
     "metadata": {},
     "output_type": "execute_result"
    }
   ],
   "source": [
    "text1"
   ]
  },
  {
   "cell_type": "code",
   "execution_count": 19,
   "metadata": {},
   "outputs": [
    {
     "data": {
      "text/plain": [
       "<Text: Sense and Sensibility by Jane Austen 1811>"
      ]
     },
     "execution_count": 19,
     "metadata": {},
     "output_type": "execute_result"
    }
   ],
   "source": [
    "text2"
   ]
  },
  {
   "cell_type": "code",
   "execution_count": 69,
   "metadata": {},
   "outputs": [],
   "source": [
    "url = 'http://www.ftchinese.com/story/001079689'"
   ]
  },
  {
   "cell_type": "code",
   "execution_count": 70,
   "metadata": {},
   "outputs": [],
   "source": [
    "import requests \n",
    "from pyquery import PyQuery as pq\n",
    "resp = requests.get(url)"
   ]
  },
  {
   "cell_type": "code",
   "execution_count": 71,
   "metadata": {},
   "outputs": [],
   "source": [
    "doc = pq(resp.text)"
   ]
  },
  {
   "cell_type": "code",
   "execution_count": 85,
   "metadata": {},
   "outputs": [
    {
     "data": {
      "text/plain": [
       "u\"\\u5c31\\u5728\\u4e00\\u5468\\u524d\\uff0c\\u5168\\u7403\\u8d38\\u6613\\u653f\\u7b56\\u4e2d\\u6700\\u5927\\u7684\\u4e00\\u4e2a\\u70ed\\u70b9\\u95ee\\u9898\\u2014\\u2014\\u300a\\u5317\\u7f8e\\u81ea\\u7531\\u8d38\\u6613\\u534f\\u5b9a\\u300b(NAFTA)\\u7684\\u91cd\\u65b0\\u8c08\\u5224\\u2014\\u2014\\u5f97\\u5230\\u4e86\\u6210\\u529f\\u89e3\\u51b3\\u3002\\u5728\\u7ecf\\u8fc7\\u51e0\\u4e2a\\u6708\\u7684\\u7d27\\u5f20\\u8c08\\u5224\\u540e\\uff0c\\u5510\\u7eb3\\u5fb7\\u2022\\u7279\\u6717\\u666e(Donald Trump)\\u8d76\\u5728\\u6700\\u540e\\u4e00\\u523b\\u4e0e\\u52a0\\u62ff\\u5927\\u548c\\u58a8\\u897f\\u54e5\\u8fbe\\u6210\\u4e86\\u59a5\\u534f\\u3002\\n\\u6bcf\\u4e2a\\u4eba\\uff0c\\u7279\\u522b\\u662f\\u4e0a\\u4e2a\\u6708\\u6211\\u53bb\\u8fc7\\u7684\\u5b89\\u5927\\u7565\\u7701\\u6e29\\u838e\\u5e02\\u8fd9\\u79cd\\u8fb9\\u5883\\u57ce\\u9547\\u7684\\u6c7d\\u8f66\\u5382\\u5de5\\u4eba\\uff0c\\u90fd\\u5728\\u5c0f\\u5fc3\\u7ffc\\u7ffc\\u5730\\u7b49\\u7740\\u770b\\u80fd\\u5426\\u6700\\u7ec8\\u8fbe\\u6210\\u534f\\u8bae\\u3002\\n\\u7f8e\\u58a8\\u52a0\\u534f\\u8bae(USMCA)\\u88ab\\u7279\\u6717\\u666e\\u8a89\\u4e3a\\u91cd\\u5927\\u80dc\\u5229\\u3002\\u5b83\\u4f7f\\u5f97\\u7279\\u6717\\u666e\\u5728\\u603b\\u7edf\\u4efb\\u671f\\u5185\\u5de9\\u56fa\\u4e86\\u4e24\\u4e2a\\u4e3b\\u8981\\u76ee\\u6807\\uff0c\\u4e00\\u662f\\u5728\\u4e2d\\u671f\\u9009\\u4e3e\\u4e4b\\u524d\\u5151\\u73b0\\u4e00\\u4e2a\\u5173\\u952e\\u7684\\u7ade\\u9009\\u627f\\u8bfa\\uff0c\\u4e8c\\u662f\\u901a\\u8fc7\\u4e0e\\u7f8e\\u56fd\\u7684\\u957f\\u671f\\u76df\\u53cb\\u8fbe\\u6210\\u534f\\u8bae\\uff0c\\u4ece\\u800c\\u80fd\\u591f\\u4e0e\\u4e2d\\u56fd\\u5168\\u529b\\u5f00\\u6253\\u8d38\\u6613\\u6218\\u3002\\n\\u4e8b\\u5b9e\\u4e0a\\uff0cUSMCA\\u534f\\u8bae\\u4e2d\\u7684\\u8bb8\\u591a\\u6761\\u6b3e\\u5b8c\\u5168\\u65e8\\u5728\\u904f\\u5236\\u4e2d\\u56fd\\uff0c\\u5e76\\u786e\\u4fdd\\u52a0\\u62ff\\u5927\\u548c\\u58a8\\u897f\\u54e5\\u4e5f\\u8fd9\\u6837\\u505a\\u3002\\u6700\\u660e\\u663e\\u7684\\u4f8b\\u5b50\\u662f\\u82f1\\u56fd\\u300a\\u91d1\\u878d\\u65f6\\u62a5\\u300b\\u5468\\u65e5\\u62a5\\u9053\\u7684\\u7b2c32.10\\u6761\\u6b3e\\u3002\\ndocument.write (writeAdNew({devices: ['PC','iPhoneWeb','AndroidWeb','iPhoneApp','AndroidApp'],pattern:'MPU',position:'Middle1',container:'mpuInStory'}));\\n\\u8be5\\u6761\\u6b3e\\u89c4\\u5b9a\\uff0c\\u5982\\u679c\\u52a0\\u62ff\\u5927\\u6216\\u58a8\\u897f\\u54e5\\u6253\\u7b97\\u4e0e\\u975e\\u5e02\\u573a\\u7ecf\\u6d4e\\u4f53\\u8fdb\\u884c\\u8d38\\u6613\\u8c08\\u5224\\uff0c\\u5c31\\u5f97\\u5728\\u5f00\\u59cb\\u524d\\u4e09\\u4e2a\\u6708\\u901a\\u77e5\\u7f8e\\u56fd\\u3002\\u5728\\u4efb\\u4f55\\u8c08\\u5224\\u671f\\u95f4\\uff0c\\u6bd4\\u5982\\u8bf4\\u5728\\u4e0e\\u5317\\u4eac\\u8c08\\u5224\\u65f6\\uff0c\\u4ed6\\u4eec\\u5c06\\u4e0d\\u5f97\\u4e0d\\u5411\\u7f8e\\u56fd\\u5b98\\u5458\\u901a\\u62a5\\u6700\\u65b0\\u4f1a\\u8c08\\u5185\\u5bb9\\u3002\\u7136\\u540e\\uff0c\\u5728\\u8fbe\\u6210\\u4efb\\u4f55\\u534f\\u8bae\\u540e\\uff0c\\u7f8e\\u56fd\\u5c06\\u80fd\\u591f\\u9000\\u51faUSMCA\\u534f\\u8bae\\u2014\\u2014\\u8fd9\\u5c06USMCA\\u534f\\u8bae\\u53d8\\u6210\\u4e8b\\u5b9e\\u4e0a\\u963b\\u6b62\\u5b83\\u4eec\\u4e0e\\u5317\\u4eac\\u8fdb\\u884c\\u4efb\\u4f55\\u7ecf\\u6d4e\\u78cb\\u5546\\u7684\\u201c\\u6bd2\\u4e38\\u201d\\u3002\\n\\u6b64\\u4e3e\\u5f15\\u8d77\\u4e86\\u5f88\\u591a\\u5173\\u6ce8\\uff0c\\u56e0\\u4e3a\\u7f8e\\u56fd\\u6b64\\u4e3e\\u4e0d\\u4ec5\\u904f\\u5236\\u4e86\\u52a0\\u62ff\\u5927\\u548c\\u58a8\\u897f\\u54e5\\u7684\\u8d38\\u6613\\u653f\\u7b56\\u7684\\u72ec\\u7acb\\u6027\\uff0c\\u800c\\u4e14\\u5728\\u672a\\u6765\\u67d0\\u4e2a\\u65f6\\u5019\\u4e5f\\u53ef\\u80fd\\u904f\\u5236\\u6b27\\u76df\\u3001\\u65e5\\u672c\\u4ee5\\u53ca\\u82f1\\u56fd\\u9000\\u6b27\\u540e\\u7684\\u8d38\\u6613\\u653f\\u7b56\\u7684\\u72ec\\u7acb\\u6027\\u3002\\n\\u4e00\\u4f4d\\u767d\\u5bab\\u9ad8\\u7ea7\\u5b98\\u5458\\u5728\\u5468\\u65e5\\u7684\\u62a5\\u9053\\u4e2d\\u5411\\u82f1\\u56fd\\u300a\\u91d1\\u878d\\u65f6\\u62a5\\u300b\\u8868\\u793a\\uff1a\\u201c\\u6211\\u4eec\\u4e00\\u76f4\\u975e\\u5e38\\u5173\\u6ce8\\u4e2d\\u56fd\\u901a\\u8fc7\\u4e0e\\u5176\\u4ed6\\u56fd\\u5bb6\\u8fbe\\u6210\\u8d38\\u6613\\u5b89\\u6392\\u3001\\u4ece\\u6839\\u672c\\u4e0a\\u524a\\u5f31\\u7f8e\\u56fd\\u5730\\u4f4d\\u7684\\u52aa\\u529b\\u3002\\u201d\\n\\u8be5\\u63aa\\u65bd\\u8fd8\\u8981\\u6c42USMCA\\u534f\\u8bae\\u4e2d\\u76843\\u4e2a\\u56fd\\u5bb6\\u9075\\u5b88\\u56fd\\u9645\\u8d27\\u5e01\\u57fa\\u91d1\\u7ec4\\u7ec7(IMF)\\u5173\\u4e8e\\u53cd\\u64cd\\u7eb5\\u6c47\\u7387\\u7684\\u51c6\\u5219\\uff1b\\u8981\\u6c42\\u516c\\u5f00\\u62ab\\u9732\\u6709\\u5173\\u5e02\\u573a\\u5e72\\u9884\\u7684\\u4efb\\u4f55\\u6570\\u636e\\uff1b\\u5e76\\u6210\\u7acb\\u4e00\\u4e2a\\u76d1\\u7763\\u5b9e\\u65bd\\u7684\\u5c0f\\u7ec4\\u3002\\u5982\\u679c\\u53d1\\u751f\\u4e89\\u8bae\\uff0c\\u53ef\\u4ee5\\u8bf7IMF\\u8fdb\\u884c\\u88c1\\u51b3\\u3002\\n\\u6700\\u540e\\uff0cUSMCA\\u534f\\u8bae\\u5305\\u62ec\\u4e00\\u4e9b\\u65e8\\u5728\\u786e\\u4fdd\\u56fd\\u6709\\u4f01\\u4e1a\\u4e0d\\u4f1a\\u53d7\\u76ca\\u4e8e\\u4e0d\\u516c\\u5e73\\u8865\\u8d34\\u7684\\u6761\\u6b3e\\u2014\\u2014\\u8fd8\\u6709\\u4e00\\u9879\\u65e8\\u5728\\u6253\\u51fb\\u4e2d\\u56fd\\u6295\\u8d44\\u7684\\u6761\\u6b3e\\u3002\\n\\u8fd9\\u4e9b\\u6761\\u6b3e\\u8868\\u660e\\u7f8e\\u56fd\\u7531\\u8877\\u60f3\\u8981\\u5728\\u5168\\u7403\\u8d38\\u6613\\u4f53\\u7cfb\\u4e2d\\u5efa\\u7acb\\u4e00\\u4e2a\\u53cd\\u534e\\u52bf\\u529b\\u8303\\u56f4\\u3002\\u7279\\u6717\\u666e\\u653f\\u5e9c\\u6b63\\u8bd5\\u56fe\\u628a\\u5b83\\u4f5c\\u4e3a\\u6760\\u6746\\u7ed9\\u5317\\u4eac\\u65bd\\u538b\\uff0c\\u4ece\\u800c\\u4fc3\\u4f7f\\u4e2d\\u56fd\\u5728\\u67d0\\u4e2a\\u65f6\\u5019\\u91cd\\u8fd4\\u8c08\\u5224\\u684c\\u3002\\u4e00\\u4e2a\\u53ef\\u80fd\\u7684\\u8c08\\u5224\\u573a\\u6240\\u662f\\u4eca\\u5e7411\\u6708\\u5728\\u963f\\u6839\\u5ef7\\u4e3e\\u884c\\u768420\\u56fd\\u96c6\\u56e2(G20)\\u5cf0\\u4f1a\\uff0c\\u5c4a\\u65f6\\u7279\\u6717\\u666e\\u548c\\u4e2d\\u56fd\\u56fd\\u5bb6\\u4e3b\\u5e2d\\u4e60\\u8fd1\\u5e73\\u5c06\\u4f1a\\u51fa\\u5e2d\\u6b64\\u6b21\\u5cf0\\u4f1a\\u3002\\ndocument.write (writeAdNew({devices: ['iPhoneWeb','AndroidWeb','iPhoneApp','AndroidApp'],pattern:'MPU',position:'Middle2',container:'mpuInStory'}));\\n\\u4f46\\u6700\\u6709\\u53ef\\u80fd\\u7684\\u60c5\\u51b5\\u662f\\uff0c\\u4ece\\u52a0\\u5f81\\u5173\\u7a0e\\u5230\\u4e0e\\u76df\\u56fd\\u8fbe\\u6210\\u8d38\\u6613\\u534f\\u8bae\\uff0c\\u7279\\u6717\\u666e\\u6269\\u5927\\u53cd\\u534e\\u4e3e\\u63aa\\u5c06\\u610f\\u5473\\u7740\\u5176\\u7acb\\u573a\\u66f4\\u52a0\\u6839\\u6df1\\u8482\\u56fa\\uff0c\\u4e0e\\u5317\\u4eac\\u65b9\\u9762\\u7684\\u5bf9\\u5cd9\\u5c06\\u4e0d\\u65ad\\u5347\\u7ea7\\u3002\\n\\u8bd1\\u8005/\\u88f4\\u4f34\""
      ]
     },
     "execution_count": 85,
     "metadata": {},
     "output_type": "execute_result"
    }
   ],
   "source": [
    "#这里的unicode该如何变成中文呢，试了网上的一些办法还是没有解决\n",
    "\n",
    "doc(\"#story-body-container\").text()\n"
   ]
  },
  {
   "cell_type": "code",
   "execution_count": 62,
   "metadata": {},
   "outputs": [],
   "source": [
    "import sys\n",
    "print(sys.getdefaultencoding())"
   ]
  },
  {
   "cell_type": "code",
   "execution_count": null,
   "metadata": {},
   "outputs": [],
   "source": []
  },
  {
   "cell_type": "code",
   "execution_count": null,
   "metadata": {},
   "outputs": [],
   "source": []
  },
  {
   "cell_type": "code",
   "execution_count": null,
   "metadata": {},
   "outputs": [],
   "source": []
  }
 ],
 "metadata": {
  "kernelspec": {
   "display_name": "Python 2",
   "language": "python",
   "name": "python2"
  },
  "language_info": {
   "codemirror_mode": {
    "name": "ipython",
    "version": 2
   },
   "file_extension": ".py",
   "mimetype": "text/x-python",
   "name": "python",
   "nbconvert_exporter": "python",
   "pygments_lexer": "ipython2",
   "version": "2.7.15"
  }
 },
 "nbformat": 4,
 "nbformat_minor": 2
}

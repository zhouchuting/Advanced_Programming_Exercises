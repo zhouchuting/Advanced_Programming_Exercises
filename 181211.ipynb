{
 "cells": [
  {
   "cell_type": "code",
   "execution_count": 2,
   "metadata": {},
   "outputs": [],
   "source": [
    "import multiprocess"
   ]
  },
  {
   "cell_type": "code",
   "execution_count": 5,
   "metadata": {},
   "outputs": [],
   "source": [
    "from multiprocessing import Process"
   ]
  },
  {
   "cell_type": "code",
   "execution_count": 6,
   "metadata": {},
   "outputs": [],
   "source": [
    "def proc(i):\n",
    "    print(\"I'm process %d\" %(i))"
   ]
  },
  {
   "cell_type": "code",
   "execution_count": 7,
   "metadata": {},
   "outputs": [
    {
     "name": "stdout",
     "output_type": "stream",
     "text": [
      "p.id: 7801\n",
      "p.name: Process-1\n",
      "p alive: True\n",
      "p.id: 7802\n",
      "p.name: Process-2\n",
      "p alive: True\n",
      "p.id: 7803\n",
      "p.name: Process-3\n",
      "p alive: True\n",
      "I'm process 0\n",
      "p.id: 7804\n",
      "p.name: Process-4\n",
      "p alive: True\n",
      "p.id: 7805\n",
      "p.name: Process-5\n",
      "p alive: True\n",
      "I'm process 1\n",
      "p.id: 7806\n",
      "p.name: Process-6\n",
      "p alive: True\n",
      "I'm process 2\n",
      "I'm process 3\n",
      "I'm process 4\n",
      "I'm process 5\n",
      "p.id: 7807\n",
      "p.name: Process-7\n",
      "p alive: True\n",
      "I'm process 6\n",
      "p.id: 7808\n",
      "p.name: Process-8\n",
      "p alive: True\n",
      "p.id: 7809\n",
      "p.name: Process-9\n",
      "p alive: True\n",
      "I'm process 7\n",
      "I'm process 8\n",
      "I'm process 9\n",
      "p.id: 7810\n",
      "p.name: Process-10\n",
      "p alive: True\n"
     ]
    }
   ],
   "source": [
    "for j in range(10):\n",
    "    p=Process(target=proc,args=(j,))\n",
    "    p.start()\n",
    "    print (\"p.id:\",p.pid)\n",
    "    print('p.name:',p.name)\n",
    "    print('p alive:',p.is_alive())\n",
    "    "
   ]
  },
  {
   "cell_type": "code",
   "execution_count": 8,
   "metadata": {},
   "outputs": [
    {
     "name": "stdout",
     "output_type": "stream",
     "text": [
      "p.id: 7832\n",
      "p.name: Process-11\n",
      "p alive: True\n",
      "p.id: 7833\n",
      "p.name: Process-12\n",
      "p alive: True\n",
      "I'm process 0\n",
      "p.id: 7834\n",
      "p.name: Process-13\n",
      "p alive: True\n",
      "p.id: 7835\n",
      "p.name: Process-14\n",
      "p alive: True\n",
      "I'm process 1\n",
      "p.id: 7836\n",
      "p.name: Process-15\n",
      "p alive: True\n",
      "I'm process 2\n",
      "p.id: 7837\n",
      "p.name: Process-16\n",
      "p alive: True\n",
      "p.id: 7838\n",
      "p.name: Process-17\n",
      "p alive: True\n",
      "I'm process 3\n",
      "I'm process 4\n",
      "p.id: 7839\n",
      "p.name: Process-18\n",
      "p alive: True\n",
      "p.id: 7840\n",
      "p.name: Process-19\n",
      "p alive: True\n",
      "I'm process 5\n",
      "p.id: 7841\n",
      "p.name: Process-20\n",
      "p alive: True\n",
      "p.id: 7842\n",
      "p.name: Process-21\n",
      "p alive: True\n",
      "I'm process 6\n",
      "I'm process 8\n",
      "I'm process 10\n",
      "I'm process 7\n",
      "I'm process 9\n",
      "I'm process 11\n",
      "p.id: 7843\n",
      "p.name: Process-22\n",
      "p alive: True\n",
      "p.id: 7844\n",
      "p.name: Process-23\n",
      "p alive: True\n",
      "I'm process 12\n",
      "p.id: 7845\n",
      "p.name: I'm process 13\n",
      "Process-24\n",
      "p alive: True\n",
      "p.id: 7846\n",
      "p.name: Process-25\n",
      "p alive: True\n",
      "p.id: 7847\n",
      "p.name: Process-26\n",
      "p alive: True\n",
      "I'm process 14\n",
      "p.id: 7848\n",
      "p.name: Process-27\n",
      "p alive: True\n",
      "I'm process 15\n",
      "I'm process 16\n",
      "p.id: 7849\n",
      "p.name: Process-28\n",
      "p alive: True\n",
      "I'm process 17\n",
      "p.id: 7850\n",
      "p.name: Process-29\n",
      "p alive: True\n",
      "I'm process 18\n",
      "p.id: 7851\n",
      "p.name: Process-30\n",
      "p alive: True\n",
      "I'm process 19\n"
     ]
    }
   ],
   "source": [
    "import time\n",
    "def proc(i):\n",
    "    print(\"I'm process %d\" %(i))\n",
    "    time.sleep(2)\n",
    "for j in range(20):\n",
    "    p=Process(target=proc,args=(j,))\n",
    "    p.start()\n",
    "    print (\"p.id:\",p.pid)\n",
    "    print('p.name:',p.name)\n",
    "    print('p alive:',p.is_alive())"
   ]
  },
  {
   "cell_type": "code",
   "execution_count": null,
   "metadata": {},
   "outputs": [],
   "source": [
    "#进程与进程之间的数据不能传递，进程之间如何通讯呢\n"
   ]
  },
  {
   "cell_type": "code",
   "execution_count": 9,
   "metadata": {},
   "outputs": [],
   "source": [
    "from multiprocess import Process, Queue\n",
    "import os\n",
    "import time\n",
    "import random\n",
    "\n"
   ]
  },
  {
   "cell_type": "code",
   "execution_count": 10,
   "metadata": {},
   "outputs": [],
   "source": [
    "def wq(q):\n",
    "    print('Process to write: %s' % os.getpid())\n",
    "    for value in ['A','B','C']:\n",
    "        print ('put %s into queue...'% value)\n",
    "        q.put(value)\n",
    "        time.sleep(random.randint(1,5))"
   ]
  },
  {
   "cell_type": "code",
   "execution_count": 12,
   "metadata": {},
   "outputs": [],
   "source": [
    "def readq(q):\n",
    "    print('Process to read: %s' % os.getpid())\n",
    "    while True:\n",
    "        value = q.get()\n",
    "        rint('get %s from queue.' % value)"
   ]
  },
  {
   "cell_type": "code",
   "execution_count": 13,
   "metadata": {},
   "outputs": [],
   "source": [
    "q = Queue()"
   ]
  },
  {
   "cell_type": "code",
   "execution_count": 15,
   "metadata": {},
   "outputs": [],
   "source": [
    "p1= Process(target=wq,args=(q,))"
   ]
  },
  {
   "cell_type": "code",
   "execution_count": 18,
   "metadata": {},
   "outputs": [],
   "source": [
    "p2 = Process(target=readq,args=(q,))"
   ]
  },
  {
   "cell_type": "code",
   "execution_count": 19,
   "metadata": {},
   "outputs": [
    {
     "ename": "AssertionError",
     "evalue": "cannot start a process twice",
     "output_type": "error",
     "traceback": [
      "\u001b[0;31m---------------------------------------------------------------------------\u001b[0m",
      "\u001b[0;31mAssertionError\u001b[0m                            Traceback (most recent call last)",
      "\u001b[0;32m<ipython-input-19-d631d1487e1f>\u001b[0m in \u001b[0;36m<module>\u001b[0;34m()\u001b[0m\n\u001b[0;32m----> 1\u001b[0;31m \u001b[0mp1\u001b[0m\u001b[0;34m.\u001b[0m\u001b[0mstart\u001b[0m\u001b[0;34m(\u001b[0m\u001b[0;34m)\u001b[0m\u001b[0;34m\u001b[0m\u001b[0m\n\u001b[0m\u001b[1;32m      2\u001b[0m \u001b[0mp2\u001b[0m\u001b[0;34m.\u001b[0m\u001b[0mstart\u001b[0m\u001b[0;34m(\u001b[0m\u001b[0;34m)\u001b[0m\u001b[0;34m\u001b[0m\u001b[0m\n\u001b[1;32m      3\u001b[0m \u001b[0mp1\u001b[0m\u001b[0;34m.\u001b[0m\u001b[0mjoin\u001b[0m\u001b[0;34m(\u001b[0m\u001b[0;34m)\u001b[0m\u001b[0;34m\u001b[0m\u001b[0m\n\u001b[1;32m      4\u001b[0m \u001b[0mp2\u001b[0m\u001b[0;34m.\u001b[0m\u001b[0mterminate\u001b[0m\u001b[0;34m(\u001b[0m\u001b[0;34m)\u001b[0m\u001b[0;34m\u001b[0m\u001b[0m\n",
      "\u001b[0;32m/Library/Frameworks/Python.framework/Versions/3.6/lib/python3.6/site-packages/multiprocess/process.py\u001b[0m in \u001b[0;36mstart\u001b[0;34m(self)\u001b[0m\n\u001b[1;32m     97\u001b[0m         \u001b[0mStart\u001b[0m \u001b[0mchild\u001b[0m \u001b[0mprocess\u001b[0m\u001b[0;34m\u001b[0m\u001b[0m\n\u001b[1;32m     98\u001b[0m         '''\n\u001b[0;32m---> 99\u001b[0;31m         \u001b[0;32massert\u001b[0m \u001b[0mself\u001b[0m\u001b[0;34m.\u001b[0m\u001b[0m_popen\u001b[0m \u001b[0;32mis\u001b[0m \u001b[0;32mNone\u001b[0m\u001b[0;34m,\u001b[0m \u001b[0;34m'cannot start a process twice'\u001b[0m\u001b[0;34m\u001b[0m\u001b[0m\n\u001b[0m\u001b[1;32m    100\u001b[0m         \u001b[0;32massert\u001b[0m \u001b[0mself\u001b[0m\u001b[0;34m.\u001b[0m\u001b[0m_parent_pid\u001b[0m \u001b[0;34m==\u001b[0m \u001b[0mos\u001b[0m\u001b[0;34m.\u001b[0m\u001b[0mgetpid\u001b[0m\u001b[0;34m(\u001b[0m\u001b[0;34m)\u001b[0m\u001b[0;34m,\u001b[0m\u001b[0;31m \u001b[0m\u001b[0;31m\\\u001b[0m\u001b[0;34m\u001b[0m\u001b[0m\n\u001b[1;32m    101\u001b[0m                \u001b[0;34m'can only start a process object created by current process'\u001b[0m\u001b[0;34m\u001b[0m\u001b[0m\n",
      "\u001b[0;31mAssertionError\u001b[0m: cannot start a process twice"
     ]
    }
   ],
   "source": [
    "p1.start()\n",
    "p2.start()\n",
    "p1.join()\n",
    "p2.terminate()"
   ]
  },
  {
   "cell_type": "code",
   "execution_count": null,
   "metadata": {},
   "outputs": [],
   "source": []
  },
  {
   "cell_type": "code",
   "execution_count": null,
   "metadata": {},
   "outputs": [],
   "source": []
  },
  {
   "cell_type": "code",
   "execution_count": null,
   "metadata": {},
   "outputs": [],
   "source": []
  },
  {
   "cell_type": "code",
   "execution_count": null,
   "metadata": {},
   "outputs": [],
   "source": []
  },
  {
   "cell_type": "code",
   "execution_count": null,
   "metadata": {},
   "outputs": [],
   "source": []
  }
 ],
 "metadata": {
  "kernelspec": {
   "display_name": "Python 3",
   "language": "python",
   "name": "python3"
  },
  "language_info": {
   "codemirror_mode": {
    "name": "ipython",
    "version": 3
   },
   "file_extension": ".py",
   "mimetype": "text/x-python",
   "name": "python",
   "nbconvert_exporter": "python",
   "pygments_lexer": "ipython3",
   "version": "3.6.0"
  }
 },
 "nbformat": 4,
 "nbformat_minor": 2
}
